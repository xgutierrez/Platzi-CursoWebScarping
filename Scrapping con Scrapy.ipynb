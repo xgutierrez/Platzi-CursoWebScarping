{
 "cells": [
  {
   "cell_type": "code",
   "execution_count": 3,
   "metadata": {},
   "outputs": [],
   "source": [
    "import scrapy"
   ]
  },
  {
   "cell_type": "code",
   "execution_count": null,
   "metadata": {},
   "outputs": [],
   "source": [
    "# Trabaja con clases y es el scrapy genérico que se utiliza\n",
    "class Spider12(scrapy.Spider):\n",
    "    name = 'spider12'\n",
    "    #Dominios que vamos a scrapear\n",
    "    allowed_domains = ['pagina12.com.ar']\n",
    "    #Configurar en que formato nos va a devolver los resultados y como se va a guardar\n",
    "    custom_settings = {'FEED_FORMAT':json,\n",
    "                      'FEED_URI': 'resultados.json'}\n",
    "    \n",
    "    start_urls =['https://www.pagina12.com.ar/secciones/el-pais',\n",
    "                 'https://www.pagina12.com.ar/secciones/el-pais',\n",
    "                 'https://www.pagina12.com.ar/secciones/el-pais',\n",
    "        \n",
    "    ]\n",
    "    \n",
    "    "
   ]
  },
  {
   "cell_type": "code",
   "execution_count": null,
   "metadata": {},
   "outputs": [],
   "source": []
  }
 ],
 "metadata": {
  "kernelspec": {
   "display_name": "Python 3",
   "language": "python",
   "name": "python3"
  },
  "language_info": {
   "codemirror_mode": {
    "name": "ipython",
    "version": 3
   },
   "file_extension": ".py",
   "mimetype": "text/x-python",
   "name": "python",
   "nbconvert_exporter": "python",
   "pygments_lexer": "ipython3",
   "version": "3.7.3"
  }
 },
 "nbformat": 4,
 "nbformat_minor": 2
}
