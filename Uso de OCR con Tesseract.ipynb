{
 "cells": [
  {
   "cell_type": "markdown",
   "metadata": {},
   "source": [
    "# OCR con Tesseract"
   ]
  },
  {
   "cell_type": "markdown",
   "metadata": {},
   "source": [
    "Tesseract-OCR es una biblioteca creada por HP que actualmente es mantenida por Google, que permite realizar reconocimiento óptico de carácteres"
   ]
  },
  {
   "cell_type": "code",
   "execution_count": 1,
   "metadata": {},
   "outputs": [
    {
     "name": "stdout",
     "output_type": "stream",
     "text": [
      "Collecting tesserocr\n",
      "  Downloading https://files.pythonhosted.org/packages/e3/77/fb26b321c3b9ce4a47af12b19e85ddbf4d0629adb6552d85276e824e6e51/tesserocr-2.5.0.tar.gz (54kB)\n",
      "Building wheels for collected packages: tesserocr\n",
      "  Building wheel for tesserocr (setup.py): started\n",
      "  Building wheel for tesserocr (setup.py): finished with status 'error'\n",
      "  Complete output from command C:\\Users\\xgutierrez\\AppData\\Local\\Continuum\\anaconda3\\python.exe -u -c \"import setuptools, tokenize;__file__='C:\\\\Users\\\\XGUTIE~1\\\\AppData\\\\Local\\\\Temp\\\\pip-install-ub3fawsx\\\\tesserocr\\\\setup.py';f=getattr(tokenize, 'open', open)(__file__);code=f.read().replace('\\r\\n', '\\n');f.close();exec(compile(code, __file__, 'exec'))\" bdist_wheel -d C:\\Users\\XGUTIE~1\\AppData\\Local\\Temp\\pip-wheel-9c3il6rp --python-tag cp37:\n",
      "  C:\\Users\\XGUTIE~1\\AppData\\Local\\Temp\\pip-install-ub3fawsx\\tesserocr\\setup.py:134: DeprecationWarning: The 'warn' method is deprecated, use 'warning' instead\n",
      "    _LOGGER.warn('Failed to extract tesseract version from executable: {}'.format(e))\n",
      "  Failed to extract tesseract version from executable: [WinError 2] El sistema no puede encontrar el archivo especificado\n",
      "  Supporting tesseract v3.04.00\n",
      "  Building with configs: {'libraries': ['tesseract', 'lept'], 'cython_compile_time_env': {'TESSERACT_VERSION': 50593792}}\n",
      "  running bdist_wheel\n",
      "  running build\n",
      "  running build_ext\n",
      "  building 'tesserocr' extension\n",
      "  error: Microsoft Visual C++ 14.0 is required. Get it with \"Microsoft Visual C++ Build Tools\": https://visualstudio.microsoft.com/downloads/\n",
      "  \n",
      "  ----------------------------------------\n",
      "  Running setup.py clean for tesserocr\n",
      "Failed to build tesserocr\n",
      "Installing collected packages: tesserocr\n",
      "  Running setup.py install for tesserocr: started\n",
      "    Running setup.py install for tesserocr: finished with status 'error'\n",
      "    Complete output from command C:\\Users\\xgutierrez\\AppData\\Local\\Continuum\\anaconda3\\python.exe -u -c \"import setuptools, tokenize;__file__='C:\\\\Users\\\\XGUTIE~1\\\\AppData\\\\Local\\\\Temp\\\\pip-install-ub3fawsx\\\\tesserocr\\\\setup.py';f=getattr(tokenize, 'open', open)(__file__);code=f.read().replace('\\r\\n', '\\n');f.close();exec(compile(code, __file__, 'exec'))\" install --record C:\\Users\\XGUTIE~1\\AppData\\Local\\Temp\\pip-record-g5l3wuw8\\install-record.txt --single-version-externally-managed --compile:\n",
      "    C:\\Users\\XGUTIE~1\\AppData\\Local\\Temp\\pip-install-ub3fawsx\\tesserocr\\setup.py:134: DeprecationWarning: The 'warn' method is deprecated, use 'warning' instead\n",
      "      _LOGGER.warn('Failed to extract tesseract version from executable: {}'.format(e))\n",
      "    Failed to extract tesseract version from executable: [WinError 2] El sistema no puede encontrar el archivo especificado\n",
      "    Supporting tesseract v3.04.00\n",
      "    Building with configs: {'libraries': ['tesseract', 'lept'], 'cython_compile_time_env': {'TESSERACT_VERSION': 50593792}}\n",
      "    running install\n",
      "    running build\n",
      "    running build_ext\n",
      "    building 'tesserocr' extension\n",
      "    error: Microsoft Visual C++ 14.0 is required. Get it with \"Microsoft Visual C++ Build Tools\": https://visualstudio.microsoft.com/downloads/\n",
      "    \n",
      "    ----------------------------------------\n",
      "Note: you may need to restart the kernel to use updated packages.\n"
     ]
    },
    {
     "name": "stderr",
     "output_type": "stream",
     "text": [
      "  Failed building wheel for tesserocr\n",
      "Command \"C:\\Users\\xgutierrez\\AppData\\Local\\Continuum\\anaconda3\\python.exe -u -c \"import setuptools, tokenize;__file__='C:\\\\Users\\\\XGUTIE~1\\\\AppData\\\\Local\\\\Temp\\\\pip-install-ub3fawsx\\\\tesserocr\\\\setup.py';f=getattr(tokenize, 'open', open)(__file__);code=f.read().replace('\\r\\n', '\\n');f.close();exec(compile(code, __file__, 'exec'))\" install --record C:\\Users\\XGUTIE~1\\AppData\\Local\\Temp\\pip-record-g5l3wuw8\\install-record.txt --single-version-externally-managed --compile\" failed with error code 1 in C:\\Users\\XGUTIE~1\\AppData\\Local\\Temp\\pip-install-ub3fawsx\\tesserocr\\\n"
     ]
    }
   ],
   "source": [
    "pip install tesserocr"
   ]
  },
  {
   "cell_type": "code",
   "execution_count": 2,
   "metadata": {},
   "outputs": [
    {
     "ename": "ModuleNotFoundError",
     "evalue": "No module named 'tesserocr'",
     "output_type": "error",
     "traceback": [
      "\u001b[1;31m---------------------------------------------------------------------------\u001b[0m",
      "\u001b[1;31mModuleNotFoundError\u001b[0m                       Traceback (most recent call last)",
      "\u001b[1;32m<ipython-input-2-35cbcf210069>\u001b[0m in \u001b[0;36m<module>\u001b[1;34m\u001b[0m\n\u001b[1;32m----> 1\u001b[1;33m \u001b[1;32mimport\u001b[0m \u001b[0mtesserocr\u001b[0m \u001b[1;31m#Para hacer OCR\u001b[0m\u001b[1;33m\u001b[0m\u001b[1;33m\u001b[0m\u001b[0m\n\u001b[0m\u001b[0;32m      2\u001b[0m \u001b[1;32mimport\u001b[0m \u001b[0mnumpy\u001b[0m \u001b[1;32mas\u001b[0m \u001b[0mnp\u001b[0m \u001b[1;31m#Para hacer manipulación básica de imágenes\u001b[0m\u001b[1;33m\u001b[0m\u001b[1;33m\u001b[0m\u001b[0m\n\u001b[0;32m      3\u001b[0m \u001b[1;32mimport\u001b[0m \u001b[0mmatplotlib\u001b[0m\u001b[1;33m.\u001b[0m\u001b[0mpyplot\u001b[0m \u001b[1;32mas\u001b[0m \u001b[0mplt\u001b[0m \u001b[1;31m#Para visualizar imágenes\u001b[0m\u001b[1;33m\u001b[0m\u001b[1;33m\u001b[0m\u001b[0m\n\u001b[0;32m      4\u001b[0m \u001b[1;32mfrom\u001b[0m \u001b[0mPIL\u001b[0m \u001b[1;32mimport\u001b[0m \u001b[0mImage\u001b[0m \u001b[1;31m# Para cambiar el formato de archivos\u001b[0m\u001b[1;33m\u001b[0m\u001b[1;33m\u001b[0m\u001b[0m\n",
      "\u001b[1;31mModuleNotFoundError\u001b[0m: No module named 'tesserocr'"
     ]
    }
   ],
   "source": [
    "import tesserocr #Para hacer OCR\n",
    "import numpy as np #Para hacer manipulación básica de imágenes\n",
    "import matplotlib.pyplot as plt #Para visualizar imágenes\n",
    "from PIL import Image # Para cambiar el formato de archivos"
   ]
  }
 ],
 "metadata": {
  "kernelspec": {
   "display_name": "Python 3",
   "language": "python",
   "name": "python3"
  },
  "language_info": {
   "codemirror_mode": {
    "name": "ipython",
    "version": 3
   },
   "file_extension": ".py",
   "mimetype": "text/x-python",
   "name": "python",
   "nbconvert_exporter": "python",
   "pygments_lexer": "ipython3",
   "version": "3.7.3"
  }
 },
 "nbformat": 4,
 "nbformat_minor": 2
}
